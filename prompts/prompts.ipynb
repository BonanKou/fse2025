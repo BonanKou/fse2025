{
 "cells": [
  {
   "cell_type": "markdown",
   "metadata": {},
   "source": [
    "### Common variables used in differnet prompt/query templates"
   ]
  },
  {
   "cell_type": "code",
   "execution_count": null,
   "metadata": {},
   "outputs": [],
   "source": [
    "context = \"You are an API expert who excels at extracting, validating, and summarizing API knowledge from Stack Overflow posts as instructed. You must remain accurate and concise, but do not miss any important details.\"\n",
    "\n",
    "api_descriptions = {\n",
    "    \"ByteArray\": (\"Kotlin\", \"A class representing an array of bytes.\"),\n",
    "    \"IllegalArgumentException\": (\"Kotlin\", \"An exception thrown to indicate that a method has been passed an illegal or inappropriate argument.\"),\n",
    "    \"BigInteger\": (\"Kotlin\", \"A class representing an immutable arbitrary-precision integer.\"),\n",
    "    \"GradientTape\": (\"TensorFlow\", \"A TensorFlow class for recording operations for automatic differentiation.\"),\n",
    "    \"Model\": (\"TensorFlow\", \"A TensorFlow class representing a machine learning model.\"),\n",
    "    \"VariableSynchronization\": (\"TensorFlow\", \"A TensorFlow enumeration for specifying how variables are synchronized across devices.\"),\n",
    "    \"MBeanServer\": (\"Java\", \"An interface for managing and accessing the Java Management Extensions (JMX) MBeans.\"),\n",
    "    \"MessageDigest\": (\"Java\", \"A class for creating message digests (hashes) in Java.\"),\n",
    "    \"UUID\": (\"Java\", \"A class representing a universally unique identifier (UUID).\"),\n",
    "    \"Manifest\": (\"Android\", \"A class that contains constants used to access the AndroidManifest.xml file.\"),\n",
    "    \"MediaPlayer\": (\"Android\", \"A class used to control the playback of audio and video files and streams.\"),\n",
    "    \"ActionBar\": (\"Android\", \"A class providing a consistent navigation bar across Android applications.\"),\n",
    "}\n",
    "\n",
    "knowledge_type_descriptions = {\n",
    "    \"functionality\": \"describes the actions or operations an API can perform. For example, an functionality knowledge for tf.gather could be: 'tf.gather is used to select tensor elements at specific indices.'\",\n",
    "    \"concept\": \"covers the foundational ideas and terminologies for understanding and effectively utilizing an API. For example, a concept knowledge for tf.gather could be: 'Tensor is essentially a high-dimensional array.'\",\n",
    "    \"performance\": \"refers to the time and memory efficiency of an API. For example, a performance knowledge for tf.gather could be: 'tf.gather has overhead when used on large tensors.'\",\n",
    "    \"directive\": \"is an essential type of knowledge that provides guidelines on the proper use of an API, including best practices to follow and actions to avoid. For example, a directive knowledge for tf.gather could be: 'When using tf.gather, ensure indices are within the shape of the input tensor.'\",\n",
    "    \"pattern\": \"illustrates common use cases for applying the API to solve specific problems or achieve certain outcomes. For example, a pattern knowledge for tf.gather could be: 'tf.gather is commonly used in embedding lookup operations.'\",\n",
    "    \"environment\": \"specifies the necessary conditions, system requirements, or configurations under which an API can function correctly. For example, an environment knowledge for tf.gather could be: 'tf.gather requires TensorFlow installed and supports both CPU and GPU execution.'\",\n",
    "    \"alternative\": \"suggests other APIs offering similar functionality, which can be considered as replacements or complementary options. For example, an alternative knowledge for tf.gather could be: 'Alternatives to tf.gather include tf.scatter_nd and tf.index_select.'\"\n",
    "}"
   ]
  },
  {
   "cell_type": "markdown",
   "metadata": {},
   "source": [
    "### Query template used to retrieve posts with different types of knowledge via DPR model"
   ]
  },
  {
   "cell_type": "code",
   "execution_count": null,
   "metadata": {},
   "outputs": [],
   "source": [
    "dpr_queries = {\n",
    "    \"functionality\": \"How does {api} in {language} work? {api} is {description}\",\n",
    "    \"concept\": \"What are the concepts behind {api} in {language}? {api} is {description}\",\n",
    "    \"performance\": \"How is the performance of {api} in {language}? {api} is {description}\",\n",
    "    \"directive\": \"What should I ensure when using {api} in {language}? {api} is {description}\",\n",
    "    \"pattern\": \"When is {api} in {language} commonly used? {api} is {description}\",\n",
    "    \"environment\": \"What are the environment requirements for {api} in {language}? {api} is {description}\",\n",
    "    \"alternative\": \"What are the alternatives to {api} in {language}? {api} is {description}\"\n",
    "}"
   ]
  },
  {
   "cell_type": "markdown",
   "metadata": {},
   "source": [
    "### Prompt template for knowledge extraction via LLM"
   ]
  },
  {
   "cell_type": "code",
   "execution_count": null,
   "metadata": {},
   "outputs": [],
   "source": [
    "example_knowledge = {\n",
    "    \"functionality\": \"tf.gather is used to select tensor elements at specific indices.\",\n",
    "    \"concept\": \"tensor is essnetailly a high-dimensional array.\",\n",
    "    \"performance\": \"tf.gather has overhead when used on large tensors.\",\n",
    "    \"directive\": \"When using tf.gather, ensure indices are within the shape of the input tensor.\",\n",
    "    \"pattern\": \"tf.gather is commonly used in embedding lookup operations.\",\n",
    "    \"environment\": \"tf.gather requries TensorFlow installed and supports both CPU and GPU execution.\",\n",
    "    \"alternative\": \"Alternatives to tf.gather include tf.scatter_nd and tf.index_select.\"\n",
    "}\n",
    "\n",
    "knowledge_extraction_instruction = \"Extract {knowledge_type} knowledge of {api} from this post, including knowledge that you can infer from this post. If the post does not contain such knowledge, reply 'No such knowledge' and nothing more.\""
   ]
  },
  {
   "cell_type": "markdown",
   "metadata": {},
   "source": [
    "### Prompt template for knowledge validation via LLM"
   ]
  },
  {
   "cell_type": "code",
   "execution_count": null,
   "metadata": {},
   "outputs": [],
   "source": [
    "knowledge_validation_prompt = 'Can this knowledge of ByteArray be extracted from this post? If so, reply \"Yes\". If not, reply \"No\". Just reply \"Yes\" or \"No\" and nothing more.'"
   ]
  },
  {
   "cell_type": "markdown",
   "metadata": {},
   "source": [
    "### Prompt template for knowledge summarization via LLM"
   ]
  },
  {
   "cell_type": "code",
   "execution_count": null,
   "metadata": {},
   "outputs": [],
   "source": [
    "knowledge_summarization_prompt = \"Summarize these knowledge snippets regarding <API_NAME> into a concise and accurate list. Focus on the seven types of knowledge as described below. For each type, create a section in the final API document.\""
   ]
  },
  {
   "cell_type": "markdown",
   "metadata": {},
   "source": [
    "### Prompt template for generating api documents via raw GPT-4-o"
   ]
  },
  {
   "cell_type": "code",
   "execution_count": null,
   "metadata": {},
   "outputs": [],
   "source": [
    "context_gpt4 = \"You are an API expert who excels at writing comprehensive, concise, and accurate API documents.\"\n",
    "gpt4_instruction = \"Generate a comprehensive, concise, and accurate API document for <API_NAME> . Focus on the seven types of knowledge as described below. For each type, create a section in the final API document.\""
   ]
  }
 ],
 "metadata": {
  "language_info": {
   "name": "python"
  }
 },
 "nbformat": 4,
 "nbformat_minor": 2
}
